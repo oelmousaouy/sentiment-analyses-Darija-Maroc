{
 "cells": [
  {
   "cell_type": "markdown",
   "id": "47de70ee-3a36-4953-8479-a2b69b0c0756",
   "metadata": {},
   "source": [
    "## load data"
   ]
  },
  {
   "cell_type": "code",
   "execution_count": 1,
   "id": "77e6f507-98c1-4ee8-a673-181a6b74c52b",
   "metadata": {},
   "outputs": [],
   "source": [
    "import pandas as pd\n",
    "df = pd.read_excel('df.xlsx')\n",
    "df_2  = pd.read_excel('df_2.xlsx')"
   ]
  },
  {
   "cell_type": "code",
   "execution_count": 2,
   "id": "72856ec7-95a8-4c05-a14b-262cfdf1ff3b",
   "metadata": {},
   "outputs": [
    {
     "data": {
      "text/html": [
       "<div>\n",
       "<style scoped>\n",
       "    .dataframe tbody tr th:only-of-type {\n",
       "        vertical-align: middle;\n",
       "    }\n",
       "\n",
       "    .dataframe tbody tr th {\n",
       "        vertical-align: top;\n",
       "    }\n",
       "\n",
       "    .dataframe thead th {\n",
       "        text-align: right;\n",
       "    }\n",
       "</style>\n",
       "<table border=\"1\" class=\"dataframe\">\n",
       "  <thead>\n",
       "    <tr style=\"text-align: right;\">\n",
       "      <th></th>\n",
       "      <th>commnetaire</th>\n",
       "      <th>reaction</th>\n",
       "    </tr>\n",
       "  </thead>\n",
       "  <tbody>\n",
       "    <tr>\n",
       "      <th>0</th>\n",
       "      <td>khayb rihto</td>\n",
       "      <td>negative</td>\n",
       "    </tr>\n",
       "    <tr>\n",
       "      <th>1</th>\n",
       "      <td>rihto zwina</td>\n",
       "      <td>pos</td>\n",
       "    </tr>\n",
       "    <tr>\n",
       "      <th>2</th>\n",
       "      <td>madhar khayb</td>\n",
       "      <td>negative</td>\n",
       "    </tr>\n",
       "    <tr>\n",
       "      <th>3</th>\n",
       "      <td>madhar zwin</td>\n",
       "      <td>pos</td>\n",
       "    </tr>\n",
       "    <tr>\n",
       "      <th>4</th>\n",
       "      <td>khaba harcha</td>\n",
       "      <td>negative</td>\n",
       "    </tr>\n",
       "  </tbody>\n",
       "</table>\n",
       "</div>"
      ],
      "text/plain": [
       "     commnetaire  reaction\n",
       "0    khayb rihto  negative\n",
       "1    rihto zwina       pos\n",
       "2  madhar khayb   negative\n",
       "3    madhar zwin       pos\n",
       "4  khaba harcha   negative"
      ]
     },
     "execution_count": 2,
     "metadata": {},
     "output_type": "execute_result"
    }
   ],
   "source": [
    "df.head()"
   ]
  },
  {
   "cell_type": "code",
   "execution_count": 3,
   "id": "f13e1afb-a74a-45cb-b94f-bc922be82ae5",
   "metadata": {},
   "outputs": [
    {
     "data": {
      "text/plain": [
       "Index(['commnetaire', 'reaction'], dtype='object')"
      ]
     },
     "execution_count": 3,
     "metadata": {},
     "output_type": "execute_result"
    }
   ],
   "source": [
    "df.columns"
   ]
  },
  {
   "cell_type": "code",
   "execution_count": 4,
   "id": "53d022cf-a0e9-4542-8f54-d834189b7b2b",
   "metadata": {},
   "outputs": [],
   "source": [
    "df_2.rename(columns={'resultat': 'commnetaire', 'sentiment': 'reaction'}, inplace=True)"
   ]
  },
  {
   "cell_type": "code",
   "execution_count": 5,
   "id": "760bdd8c-b5bf-47a3-a0da-395b9a4e6cd6",
   "metadata": {},
   "outputs": [
    {
     "data": {
      "text/plain": [
       "reaction\n",
       "pos         92\n",
       "negative    76\n",
       "neutre       5\n",
       "Name: count, dtype: int64"
      ]
     },
     "execution_count": 5,
     "metadata": {},
     "output_type": "execute_result"
    }
   ],
   "source": [
    "df['reaction'].value_counts()"
   ]
  },
  {
   "cell_type": "code",
   "execution_count": 6,
   "id": "19f8ec09-201f-4717-920f-cb979d147ae6",
   "metadata": {},
   "outputs": [
    {
     "data": {
      "text/plain": [
       "reaction\n",
       "neutre      17\n",
       "positive    16\n",
       "négative    16\n",
       "negative     2\n",
       "positve      1\n",
       "Name: count, dtype: int64"
      ]
     },
     "execution_count": 6,
     "metadata": {},
     "output_type": "execute_result"
    }
   ],
   "source": [
    "df_2['reaction'].value_counts()"
   ]
  },
  {
   "cell_type": "code",
   "execution_count": 7,
   "id": "98c82c95-8537-439e-b8b3-4147b046947d",
   "metadata": {},
   "outputs": [
    {
     "data": {
      "text/html": [
       "<div>\n",
       "<style scoped>\n",
       "    .dataframe tbody tr th:only-of-type {\n",
       "        vertical-align: middle;\n",
       "    }\n",
       "\n",
       "    .dataframe tbody tr th {\n",
       "        vertical-align: top;\n",
       "    }\n",
       "\n",
       "    .dataframe thead th {\n",
       "        text-align: right;\n",
       "    }\n",
       "</style>\n",
       "<table border=\"1\" class=\"dataframe\">\n",
       "  <thead>\n",
       "    <tr style=\"text-align: right;\">\n",
       "      <th></th>\n",
       "      <th>commnetaire</th>\n",
       "      <th>reaction</th>\n",
       "    </tr>\n",
       "  </thead>\n",
       "  <tbody>\n",
       "    <tr>\n",
       "      <th>0</th>\n",
       "      <td>waw hadchi 3ndkom zwin</td>\n",
       "      <td>positive</td>\n",
       "    </tr>\n",
       "    <tr>\n",
       "      <th>1</th>\n",
       "      <td>mabihch khaskom tzido fih lma</td>\n",
       "      <td>neutre</td>\n",
       "    </tr>\n",
       "    <tr>\n",
       "      <th>2</th>\n",
       "      <td>maprodoui ma ta wza</td>\n",
       "      <td>négative</td>\n",
       "    </tr>\n",
       "    <tr>\n",
       "      <th>3</th>\n",
       "      <td>tbarklah 3likom koulchi howa hadak</td>\n",
       "      <td>positive</td>\n",
       "    </tr>\n",
       "    <tr>\n",
       "      <th>4</th>\n",
       "      <td>mahlo mamalhe</td>\n",
       "      <td>neutre</td>\n",
       "    </tr>\n",
       "  </tbody>\n",
       "</table>\n",
       "</div>"
      ],
      "text/plain": [
       "                          commnetaire  reaction\n",
       "0              waw hadchi 3ndkom zwin  positive\n",
       "1       mabihch khaskom tzido fih lma    neutre\n",
       "2                 maprodoui ma ta wza  négative\n",
       "3  tbarklah 3likom koulchi howa hadak  positive\n",
       "4                       mahlo mamalhe    neutre"
      ]
     },
     "execution_count": 7,
     "metadata": {},
     "output_type": "execute_result"
    }
   ],
   "source": [
    "df_2.head()"
   ]
  },
  {
   "cell_type": "code",
   "execution_count": 8,
   "id": "c199ea56-655f-418b-b0f9-a92a09790ecf",
   "metadata": {},
   "outputs": [],
   "source": [
    "df['reaction'] = df['reaction'].apply(lambda x: 'positive' if 'pos' in x.lower() else x)\n",
    "df_2['reaction'] = df['reaction'].apply(lambda x: 'negative' if 'négative' in x.lower() else x)\n"
   ]
  },
  {
   "cell_type": "code",
   "execution_count": 9,
   "id": "bed2d512-e5f5-441a-bfd5-b66a308a3ed8",
   "metadata": {},
   "outputs": [],
   "source": [
    "condition = df['reaction'] == \"neutre\"\n",
    "df = df[~condition]"
   ]
  },
  {
   "cell_type": "code",
   "execution_count": 10,
   "id": "43a01237-e4fc-4b91-a7de-eec6238de949",
   "metadata": {},
   "outputs": [],
   "source": [
    "condition = df_2['reaction'] == \"neutre\"\n",
    "df_2 = df_2[~condition]"
   ]
  },
  {
   "cell_type": "code",
   "execution_count": 11,
   "id": "3b08536a-e05e-4a08-8028-bbe93aa72e9a",
   "metadata": {},
   "outputs": [
    {
     "data": {
      "text/plain": [
       "(220, 2)"
      ]
     },
     "execution_count": 11,
     "metadata": {},
     "output_type": "execute_result"
    }
   ],
   "source": [
    "df = pd.concat([df, df_2], ignore_index=True)\n",
    "df.shape"
   ]
  },
  {
   "cell_type": "code",
   "execution_count": 12,
   "id": "d6bb7924-58f9-48f5-8f86-4ca37c076f79",
   "metadata": {},
   "outputs": [
    {
     "data": {
      "text/plain": [
       "reaction\n",
       "positive    118\n",
       "negative    102\n",
       "Name: count, dtype: int64"
      ]
     },
     "execution_count": 12,
     "metadata": {},
     "output_type": "execute_result"
    }
   ],
   "source": [
    "df['reaction'].value_counts()"
   ]
  },
  {
   "cell_type": "code",
   "execution_count": 13,
   "id": "503d2fdc-3794-4b6f-9680-2f1aeaa3e900",
   "metadata": {},
   "outputs": [],
   "source": [
    "# from sklearn.feature_extraction.text import TfidfVectorizer\n",
    "\n",
    "# X_train, X_test, y_train, y_test = train_test_split(df['commnetaire'], df['reaction'], test_size=0.2, random_state=42)\n",
    "\n",
    "# # Créer un vecteur TF-IDF\n",
    "# vectorizer = TfidfVectorizer()\n",
    "# X_train_tfidf = vectorizer.fit_transform(X_train)\n",
    "# X_test_tfidf = vectorizer.transform(X_test)"
   ]
  },
  {
   "cell_type": "code",
   "execution_count": 14,
   "id": "1415d1da-8d7c-4bf3-b840-cd4b658c03b7",
   "metadata": {},
   "outputs": [],
   "source": [
    "# # Convertir les données en listes de listes\n",
    "# X_train_sequences = X_train_tfidf.toarray().tolist()\n",
    "# X_test_sequences = X_test_tfidf.toarray().tolist()"
   ]
  },
  {
   "cell_type": "code",
   "execution_count": 15,
   "id": "2281ded6-6784-4aa6-b93f-6614184be8a7",
   "metadata": {},
   "outputs": [
    {
     "name": "stdout",
     "output_type": "stream",
     "text": [
      "Epoch 1/64\n",
      "6/6 [==============================] - 5s 227ms/step - loss: 0.6936 - accuracy: 0.4830 - val_loss: 0.6914 - val_accuracy: 0.5227\n",
      "Epoch 2/64\n",
      "6/6 [==============================] - 0s 16ms/step - loss: 0.6901 - accuracy: 0.5398 - val_loss: 0.6906 - val_accuracy: 0.5227\n",
      "Epoch 3/64\n",
      "6/6 [==============================] - 0s 20ms/step - loss: 0.6877 - accuracy: 0.5398 - val_loss: 0.6890 - val_accuracy: 0.5227\n",
      "Epoch 4/64\n",
      "6/6 [==============================] - 0s 17ms/step - loss: 0.6823 - accuracy: 0.5455 - val_loss: 0.6868 - val_accuracy: 0.5227\n",
      "Epoch 5/64\n",
      "6/6 [==============================] - 0s 16ms/step - loss: 0.6735 - accuracy: 0.5511 - val_loss: 0.6823 - val_accuracy: 0.5227\n",
      "Epoch 6/64\n",
      "6/6 [==============================] - 0s 19ms/step - loss: 0.6567 - accuracy: 0.6364 - val_loss: 0.6737 - val_accuracy: 0.5455\n",
      "Epoch 7/64\n",
      "6/6 [==============================] - 0s 22ms/step - loss: 0.6258 - accuracy: 0.7386 - val_loss: 0.6590 - val_accuracy: 0.6136\n",
      "Epoch 8/64\n",
      "6/6 [==============================] - 0s 22ms/step - loss: 0.5747 - accuracy: 0.8409 - val_loss: 0.6346 - val_accuracy: 0.6364\n",
      "Epoch 9/64\n",
      "6/6 [==============================] - 0s 15ms/step - loss: 0.4933 - accuracy: 0.9091 - val_loss: 0.6022 - val_accuracy: 0.6591\n",
      "Epoch 10/64\n",
      "6/6 [==============================] - 0s 18ms/step - loss: 0.3944 - accuracy: 0.9432 - val_loss: 0.5689 - val_accuracy: 0.7955\n",
      "Epoch 11/64\n",
      "6/6 [==============================] - 0s 20ms/step - loss: 0.3080 - accuracy: 0.9716 - val_loss: 0.5465 - val_accuracy: 0.7955\n",
      "Epoch 12/64\n",
      "6/6 [==============================] - 0s 16ms/step - loss: 0.2466 - accuracy: 0.9886 - val_loss: 0.5376 - val_accuracy: 0.7955\n",
      "Epoch 13/64\n",
      "6/6 [==============================] - 0s 16ms/step - loss: 0.2040 - accuracy: 0.9886 - val_loss: 0.5367 - val_accuracy: 0.7500\n",
      "Epoch 14/64\n",
      "6/6 [==============================] - 0s 16ms/step - loss: 0.1735 - accuracy: 0.9943 - val_loss: 0.5414 - val_accuracy: 0.7955\n",
      "Epoch 15/64\n",
      "6/6 [==============================] - 0s 20ms/step - loss: 0.1492 - accuracy: 1.0000 - val_loss: 0.5417 - val_accuracy: 0.7955\n",
      "Epoch 16/64\n",
      "6/6 [==============================] - 0s 19ms/step - loss: 0.1306 - accuracy: 1.0000 - val_loss: 0.5379 - val_accuracy: 0.7955\n",
      "Epoch 17/64\n",
      "6/6 [==============================] - 0s 22ms/step - loss: 0.1155 - accuracy: 1.0000 - val_loss: 0.5316 - val_accuracy: 0.7955\n",
      "Epoch 18/64\n",
      "6/6 [==============================] - 0s 20ms/step - loss: 0.1018 - accuracy: 1.0000 - val_loss: 0.5275 - val_accuracy: 0.7727\n",
      "Epoch 19/64\n",
      "6/6 [==============================] - 0s 17ms/step - loss: 0.0904 - accuracy: 1.0000 - val_loss: 0.5258 - val_accuracy: 0.7955\n",
      "Epoch 20/64\n",
      "6/6 [==============================] - 0s 19ms/step - loss: 0.0802 - accuracy: 1.0000 - val_loss: 0.5271 - val_accuracy: 0.7955\n",
      "Epoch 21/64\n",
      "6/6 [==============================] - 0s 16ms/step - loss: 0.0716 - accuracy: 1.0000 - val_loss: 0.5322 - val_accuracy: 0.7955\n",
      "Epoch 22/64\n",
      "6/6 [==============================] - 0s 19ms/step - loss: 0.0639 - accuracy: 1.0000 - val_loss: 0.5386 - val_accuracy: 0.7727\n",
      "Epoch 23/64\n",
      "6/6 [==============================] - 0s 17ms/step - loss: 0.0578 - accuracy: 1.0000 - val_loss: 0.5480 - val_accuracy: 0.7727\n",
      "Epoch 24/64\n",
      "6/6 [==============================] - 0s 19ms/step - loss: 0.0519 - accuracy: 1.0000 - val_loss: 0.5560 - val_accuracy: 0.7727\n",
      "Epoch 25/64\n",
      "6/6 [==============================] - 0s 17ms/step - loss: 0.0470 - accuracy: 1.0000 - val_loss: 0.5641 - val_accuracy: 0.7727\n",
      "Epoch 26/64\n",
      "6/6 [==============================] - 0s 20ms/step - loss: 0.0427 - accuracy: 1.0000 - val_loss: 0.5734 - val_accuracy: 0.7727\n",
      "Epoch 27/64\n",
      "6/6 [==============================] - 0s 18ms/step - loss: 0.0389 - accuracy: 1.0000 - val_loss: 0.5843 - val_accuracy: 0.7727\n",
      "Epoch 28/64\n",
      "6/6 [==============================] - 0s 16ms/step - loss: 0.0355 - accuracy: 1.0000 - val_loss: 0.5944 - val_accuracy: 0.7955\n",
      "Epoch 29/64\n",
      "6/6 [==============================] - 0s 20ms/step - loss: 0.0324 - accuracy: 1.0000 - val_loss: 0.6058 - val_accuracy: 0.7955\n",
      "Epoch 30/64\n",
      "6/6 [==============================] - 0s 20ms/step - loss: 0.0297 - accuracy: 1.0000 - val_loss: 0.6167 - val_accuracy: 0.7727\n",
      "Epoch 31/64\n",
      "6/6 [==============================] - 0s 20ms/step - loss: 0.0273 - accuracy: 1.0000 - val_loss: 0.6270 - val_accuracy: 0.7727\n",
      "Epoch 32/64\n",
      "6/6 [==============================] - 0s 20ms/step - loss: 0.0251 - accuracy: 1.0000 - val_loss: 0.6390 - val_accuracy: 0.7955\n",
      "Epoch 33/64\n",
      "6/6 [==============================] - 0s 16ms/step - loss: 0.0231 - accuracy: 1.0000 - val_loss: 0.6503 - val_accuracy: 0.7955\n",
      "Epoch 34/64\n",
      "6/6 [==============================] - 0s 23ms/step - loss: 0.0214 - accuracy: 1.0000 - val_loss: 0.6628 - val_accuracy: 0.7955\n",
      "Epoch 35/64\n",
      "6/6 [==============================] - 0s 19ms/step - loss: 0.0199 - accuracy: 1.0000 - val_loss: 0.6776 - val_accuracy: 0.7727\n",
      "Epoch 36/64\n",
      "6/6 [==============================] - 0s 16ms/step - loss: 0.0185 - accuracy: 1.0000 - val_loss: 0.6927 - val_accuracy: 0.7727\n",
      "Epoch 37/64\n",
      "6/6 [==============================] - 0s 21ms/step - loss: 0.0173 - accuracy: 1.0000 - val_loss: 0.7081 - val_accuracy: 0.7727\n",
      "Epoch 38/64\n",
      "6/6 [==============================] - 0s 17ms/step - loss: 0.0162 - accuracy: 1.0000 - val_loss: 0.7231 - val_accuracy: 0.7955\n",
      "Epoch 39/64\n",
      "6/6 [==============================] - 0s 19ms/step - loss: 0.0152 - accuracy: 1.0000 - val_loss: 0.7372 - val_accuracy: 0.7955\n",
      "Epoch 40/64\n",
      "6/6 [==============================] - 0s 27ms/step - loss: 0.0143 - accuracy: 1.0000 - val_loss: 0.7516 - val_accuracy: 0.7955\n",
      "Epoch 41/64\n",
      "6/6 [==============================] - 0s 16ms/step - loss: 0.0135 - accuracy: 1.0000 - val_loss: 0.7643 - val_accuracy: 0.7955\n",
      "Epoch 42/64\n",
      "6/6 [==============================] - 0s 21ms/step - loss: 0.0128 - accuracy: 1.0000 - val_loss: 0.7761 - val_accuracy: 0.7955\n",
      "Epoch 43/64\n",
      "6/6 [==============================] - 0s 19ms/step - loss: 0.0121 - accuracy: 1.0000 - val_loss: 0.7868 - val_accuracy: 0.7955\n",
      "Epoch 44/64\n",
      "6/6 [==============================] - 0s 19ms/step - loss: 0.0115 - accuracy: 1.0000 - val_loss: 0.7965 - val_accuracy: 0.7955\n",
      "Epoch 45/64\n",
      "6/6 [==============================] - 0s 18ms/step - loss: 0.0110 - accuracy: 1.0000 - val_loss: 0.8051 - val_accuracy: 0.7955\n",
      "Epoch 46/64\n",
      "6/6 [==============================] - 0s 19ms/step - loss: 0.0105 - accuracy: 1.0000 - val_loss: 0.8125 - val_accuracy: 0.7955\n",
      "Epoch 47/64\n",
      "6/6 [==============================] - 0s 19ms/step - loss: 0.0101 - accuracy: 1.0000 - val_loss: 0.8202 - val_accuracy: 0.7955\n",
      "Epoch 48/64\n",
      "6/6 [==============================] - 0s 19ms/step - loss: 0.0096 - accuracy: 1.0000 - val_loss: 0.8284 - val_accuracy: 0.7955\n",
      "Epoch 49/64\n",
      "6/6 [==============================] - 0s 16ms/step - loss: 0.0093 - accuracy: 1.0000 - val_loss: 0.8366 - val_accuracy: 0.7955\n",
      "Epoch 50/64\n",
      "6/6 [==============================] - 0s 20ms/step - loss: 0.0089 - accuracy: 1.0000 - val_loss: 0.8445 - val_accuracy: 0.7955\n",
      "Epoch 51/64\n",
      "6/6 [==============================] - 0s 16ms/step - loss: 0.0086 - accuracy: 1.0000 - val_loss: 0.8521 - val_accuracy: 0.7955\n",
      "Epoch 52/64\n",
      "6/6 [==============================] - 0s 14ms/step - loss: 0.0083 - accuracy: 1.0000 - val_loss: 0.8594 - val_accuracy: 0.7955\n",
      "Epoch 53/64\n",
      "6/6 [==============================] - 0s 16ms/step - loss: 0.0080 - accuracy: 1.0000 - val_loss: 0.8650 - val_accuracy: 0.7955\n",
      "Epoch 54/64\n",
      "6/6 [==============================] - 0s 15ms/step - loss: 0.0078 - accuracy: 1.0000 - val_loss: 0.8706 - val_accuracy: 0.7955\n",
      "Epoch 55/64\n",
      "6/6 [==============================] - 0s 15ms/step - loss: 0.0075 - accuracy: 1.0000 - val_loss: 0.8767 - val_accuracy: 0.7955\n",
      "Epoch 56/64\n",
      "6/6 [==============================] - 0s 17ms/step - loss: 0.0073 - accuracy: 1.0000 - val_loss: 0.8829 - val_accuracy: 0.7955\n",
      "Epoch 57/64\n",
      "6/6 [==============================] - 0s 19ms/step - loss: 0.0071 - accuracy: 1.0000 - val_loss: 0.8882 - val_accuracy: 0.7955\n",
      "Epoch 58/64\n",
      "6/6 [==============================] - 0s 17ms/step - loss: 0.0069 - accuracy: 1.0000 - val_loss: 0.8934 - val_accuracy: 0.7955\n",
      "Epoch 59/64\n",
      "6/6 [==============================] - 0s 13ms/step - loss: 0.0067 - accuracy: 1.0000 - val_loss: 0.8989 - val_accuracy: 0.7955\n",
      "Epoch 60/64\n",
      "6/6 [==============================] - 0s 20ms/step - loss: 0.0065 - accuracy: 1.0000 - val_loss: 0.9038 - val_accuracy: 0.7955\n",
      "Epoch 61/64\n",
      "6/6 [==============================] - 0s 20ms/step - loss: 0.0063 - accuracy: 1.0000 - val_loss: 0.9084 - val_accuracy: 0.7955\n",
      "Epoch 62/64\n",
      "6/6 [==============================] - 0s 20ms/step - loss: 0.0061 - accuracy: 1.0000 - val_loss: 0.9133 - val_accuracy: 0.7955\n",
      "Epoch 63/64\n",
      "6/6 [==============================] - 0s 17ms/step - loss: 0.0060 - accuracy: 1.0000 - val_loss: 0.9177 - val_accuracy: 0.7955\n",
      "Epoch 64/64\n",
      "6/6 [==============================] - 0s 18ms/step - loss: 0.0058 - accuracy: 1.0000 - val_loss: 0.9218 - val_accuracy: 0.7955\n",
      "2/2 [==============================] - 0s 16ms/step - loss: 0.9218 - accuracy: 0.7955\n",
      "Précision : 0.80\n"
     ]
    }
   ],
   "source": [
    "from sklearn.model_selection import train_test_split\n",
    "from keras.layers import LSTM, Dense, Dropout,Embedding\n",
    "from keras.models import Sequential\n",
    "from keras.preprocessing.text import Tokenizer\n",
    "from keras.preprocessing.sequence import pad_sequences\n",
    "from sklearn.preprocessing import LabelEncoder\n",
    "\n",
    "label_encoder = LabelEncoder()\n",
    "df['sentiment_encoded'] = label_encoder.fit_transform(df['reaction'])\n",
    "\n",
    "# Diviser l'ensemble de données en ensemble d'entraînement et ensemble de test\n",
    "X_train, X_test, y_train, y_test = train_test_split(df['commnetaire'], df['sentiment_encoded'], test_size=0.2, random_state=42)\n",
    "\n",
    "# Créer un vecteur TF-IDF\n",
    "# vectorizer = TfidfVectorizer()\n",
    "# X_train_tfidf = vectorizer.fit_transform(X_train)\n",
    "# X_test_tfidf = vectorizer.transform(X_test)\n",
    "\n",
    "# # Convertir les données en listes de listes\n",
    "# X_train_sequences = X_train_tfidf.toarray().tolist()\n",
    "# X_test_sequences = X_test_tfidf.toarray().tolist()\n",
    "\n",
    "# Tokenization et séquence padding\n",
    "max_words = 1000\n",
    "tokenizer = Tokenizer(num_words=max_words, oov_token='<OOV>')\n",
    "tokenizer.fit_on_texts(X_train)\n",
    "\n",
    "X_train_sequences = tokenizer.texts_to_sequences(X_train)\n",
    "X_test_sequences = tokenizer.texts_to_sequences(X_test)\n",
    "\n",
    "max_sequence_length = max(len(seq) for seq in X_train_sequences)\n",
    "X_train_padded = pad_sequences(X_train_sequences, maxlen=max_sequence_length, padding='post')\n",
    "X_test_padded = pad_sequences(X_test_sequences, maxlen=max_sequence_length, padding='post')\n",
    "\n",
    "# Créer le modèle LSTM\n",
    "embedding_dim = 50\n",
    "model = Sequential()\n",
    "model.add(Embedding(input_dim=max_words, output_dim=embedding_dim, input_length=max_sequence_length))\n",
    "model.add(LSTM(12,return_sequences=True))\n",
    "model.add(LSTM(12))\n",
    "model.add(Dense(1, activation='sigmoid'))\n",
    "\n",
    "# Compiler le modèle\n",
    "model.compile(optimizer='adam', loss='binary_crossentropy', metrics=['accuracy'])\n",
    "\n",
    "# Entraîner le modèle\n",
    "his = model.fit(X_train_padded, y_train, epochs=64, validation_data=(X_test_padded, y_test))\n",
    "\n",
    "# Évaluer les performances du modèle\n",
    "loss, accuracy = model.evaluate(X_test_padded, y_test)\n",
    "print(f'Précision : {accuracy:.2f}')"
   ]
  },
  {
   "cell_type": "code",
   "execution_count": 20,
   "id": "1d722d63-23fb-4117-aad3-bc855dd466b8",
   "metadata": {},
   "outputs": [
    {
     "data": {
      "image/png": "[encoded data removed]",
      "text/plain": [
       "<Figure size 640x480 with 1 Axes>"
      ]
     },
     "metadata": {},
     "output_type": "display_data"
    }
   ],
   "source": [
    "import matplotlib.pyplot as plt\n",
    "plt.plot(his.history['accuracy'])\n",
    "plt.plot(his.history['val_accuracy'])\n",
    "plt.title('model accuracy')\n",
    "plt.ylabel('accuracy')\n",
    "plt.xlabel('epoch')\n",
    "plt.legend(['train', 'val'])\n",
    "plt.show()"
   ]
  },
  {
   "cell_type": "code",
   "execution_count": 18,
   "id": "4c69fb24-2608-4154-8ff8-006ad3a0df23",
   "metadata": {},
   "outputs": [],
   "source": [
    "import numpy as np\n",
    "\n",
    "def predict_sentiment(text, model, tokenizer, max_sequence_length):\n",
    "    # Tokenization et séquence padding pour le texte d'entrée\n",
    "    text_sequence = tokenizer.texts_to_sequences([text])\n",
    "    padded_sequence = pad_sequences(text_sequence, maxlen=max_sequence_length, padding='post')\n",
    "\n",
    "    # Prédiction avec le modèle\n",
    "    prediction = model.predict(padded_sequence)\n",
    "\n",
    "    # Convertir la prédiction en classe (0 ou 1)\n",
    "    predicted_class = np.round(prediction).astype(int)\n",
    "\n",
    "    # Décoder la classe en label d'origine\n",
    "    decoded_class = label_encoder.inverse_transform(predicted_class.flatten())\n",
    "\n",
    "    return decoded_class[0]\n",
    "\n",
    "\n"
   ]
  },
  {
   "cell_type": "code",
   "execution_count": 19,
   "id": "2e884746-d121-4100-b7f1-0bc676997bb5",
   "metadata": {},
   "outputs": [
    {
     "name": "stdout",
     "output_type": "stream",
     "text": [
      "1/1 [==============================] - 1s 807ms/step\n",
      "Texte : hadchi zwin \n",
      "Sentiment prédit : positive\n",
      "1/1 [==============================] - 0s 30ms/step\n",
      "Texte : flousso 7lal elih wlh \n",
      "Sentiment prédit : positive\n",
      "1/1 [==============================] - 0s 32ms/step\n",
      "Texte :  waw nadi \n",
      "Sentiment prédit : positive\n",
      "1/1 [==============================] - 0s 27ms/step\n",
      "Texte :  nqass hadchi endkomm\n",
      "Sentiment prédit : negative\n",
      "1/1 [==============================] - 0s 23ms/step\n",
      "Texte : katflaw ela nass hchoma elikom\n",
      "Sentiment prédit : negative\n",
      "1/1 [==============================] - 0s 20ms/step\n",
      "Texte : 3ayan hadchi\n",
      "Sentiment prédit : negative\n"
     ]
    }
   ],
   "source": [
    "texts_to_predict = ['hadchi zwin ','flousso 7lal elih wlh ',' waw nadi ' ,' nqass hadchi endkomm','katflaw ela nass hchoma elikom','3ayan hadchi']\n",
    "for text_to_predict in texts_to_predict:\n",
    "    predicted_sentiment = predict_sentiment(text_to_predict, model, tokenizer, max_sequence_length)\n",
    "    print(f\"Texte : {text_to_predict}\")\n",
    "    print(f\"Sentiment prédit : {predicted_sentiment}\")\n",
    "\n",
    "    "
   ]
  }
 ],
 "metadata": {
  "kernelspec": {
   "display_name": "Python 3 (ipykernel)",
   "language": "python",
   "name": "python3"
  },
  "language_info": {
   "codemirror_mode": {
    "name": "ipython",
    "version": 3
   },
   "file_extension": ".py",
   "mimetype": "text/x-python",
   "name": "python",
   "nbconvert_exporter": "python",
   "pygments_lexer": "ipython3",
   "version": "3.9.7"
  }
 },
 "nbformat": 4,
 "nbformat_minor": 5
}
